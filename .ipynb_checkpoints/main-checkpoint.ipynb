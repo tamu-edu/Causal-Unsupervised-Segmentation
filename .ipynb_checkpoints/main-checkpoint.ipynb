{
 "cells": [
  {
   "cell_type": "code",
   "execution_count": 1,
   "metadata": {},
   "outputs": [
    {
     "name": "stdout",
     "output_type": "stream",
     "text": [
      "Defaulting to user installation because normal site-packages is not writeable\n",
      "Requirement already satisfied: matplotlib in /home/anthony/.local/lib/python3.10/site-packages (3.7.2)\n",
      "Requirement already satisfied: timm==0.9.5 in /home/anthony/.local/lib/python3.10/site-packages (0.9.5)\n",
      "Requirement already satisfied: tqdm in /home/anthony/.local/lib/python3.10/site-packages (4.66.1)\n",
      "Requirement already satisfied: scipy in /home/anthony/.local/lib/python3.10/site-packages (1.11.2)\n",
      "Requirement already satisfied: numpy in /home/anthony/.local/lib/python3.10/site-packages (1.25.2)\n",
      "Requirement already satisfied: tensorboardX in /home/anthony/.local/lib/python3.10/site-packages (2.6.1)\n",
      "Requirement already satisfied: wget in /home/anthony/.local/lib/python3.10/site-packages (3.2)\n",
      "Requirement already satisfied: scikit-image in /home/anthony/.local/lib/python3.10/site-packages (0.22.0)\n",
      "Requirement already satisfied: scikit-learn in /home/anthony/.local/lib/python3.10/site-packages (1.4.0)\n",
      "Requirement already satisfied: xformers in /home/anthony/.local/lib/python3.10/site-packages (0.0.23.post1)\n",
      "Requirement already satisfied: torchvision in /home/anthony/.local/lib/python3.10/site-packages (from timm==0.9.5) (0.16.2)\n",
      "Requirement already satisfied: safetensors in /home/anthony/.local/lib/python3.10/site-packages (from timm==0.9.5) (0.4.1)\n",
      "Requirement already satisfied: pyyaml in /usr/lib/python3/dist-packages (from timm==0.9.5) (5.4.1)\n",
      "Requirement already satisfied: torch>=1.7 in /home/anthony/.local/lib/python3.10/site-packages (from timm==0.9.5) (2.1.2)\n",
      "Requirement already satisfied: huggingface-hub in /home/anthony/.local/lib/python3.10/site-packages (from timm==0.9.5) (0.20.2)\n",
      "Requirement already satisfied: pyparsing<3.1,>=2.3.1 in /usr/lib/python3/dist-packages (from matplotlib) (2.4.7)\n",
      "Requirement already satisfied: contourpy>=1.0.1 in /home/anthony/.local/lib/python3.10/site-packages (from matplotlib) (1.1.0)\n",
      "Requirement already satisfied: kiwisolver>=1.0.1 in /home/anthony/.local/lib/python3.10/site-packages (from matplotlib) (1.4.4)\n",
      "Requirement already satisfied: cycler>=0.10 in /home/anthony/.local/lib/python3.10/site-packages (from matplotlib) (0.11.0)\n",
      "Requirement already satisfied: pillow>=6.2.0 in /home/anthony/.local/lib/python3.10/site-packages (from matplotlib) (10.0.0)\n",
      "Requirement already satisfied: python-dateutil>=2.7 in /home/anthony/.local/lib/python3.10/site-packages (from matplotlib) (2.8.2)\n",
      "Requirement already satisfied: fonttools>=4.22.0 in /home/anthony/.local/lib/python3.10/site-packages (from matplotlib) (4.42.0)\n",
      "Requirement already satisfied: packaging>=20.0 in /home/anthony/.local/lib/python3.10/site-packages (from matplotlib) (23.1)\n",
      "Requirement already satisfied: protobuf>=4.22.3 in /home/anthony/.local/lib/python3.10/site-packages (from tensorboardX) (4.23.4)\n",
      "Requirement already satisfied: lazy_loader>=0.3 in /home/anthony/.local/lib/python3.10/site-packages (from scikit-image) (0.3)\n",
      "Requirement already satisfied: tifffile>=2022.8.12 in /home/anthony/.local/lib/python3.10/site-packages (from scikit-image) (2023.12.9)\n",
      "Requirement already satisfied: imageio>=2.27 in /home/anthony/.local/lib/python3.10/site-packages (from scikit-image) (2.33.1)\n",
      "Requirement already satisfied: networkx>=2.8 in /home/anthony/.local/lib/python3.10/site-packages (from scikit-image) (3.1)\n",
      "Requirement already satisfied: joblib>=1.2.0 in /home/anthony/.local/lib/python3.10/site-packages (from scikit-learn) (1.3.2)\n",
      "Requirement already satisfied: threadpoolctl>=2.0.0 in /home/anthony/.local/lib/python3.10/site-packages (from scikit-learn) (3.2.0)\n",
      "Requirement already satisfied: nvidia-cublas-cu12==12.1.3.1 in /home/anthony/.local/lib/python3.10/site-packages (from torch>=1.7->timm==0.9.5) (12.1.3.1)\n",
      "Requirement already satisfied: fsspec in /home/anthony/.local/lib/python3.10/site-packages (from torch>=1.7->timm==0.9.5) (2023.12.2)\n",
      "Requirement already satisfied: nvidia-nvtx-cu12==12.1.105 in /home/anthony/.local/lib/python3.10/site-packages (from torch>=1.7->timm==0.9.5) (12.1.105)\n",
      "Requirement already satisfied: nvidia-cusparse-cu12==12.1.0.106 in /home/anthony/.local/lib/python3.10/site-packages (from torch>=1.7->timm==0.9.5) (12.1.0.106)\n",
      "Requirement already satisfied: nvidia-curand-cu12==10.3.2.106 in /home/anthony/.local/lib/python3.10/site-packages (from torch>=1.7->timm==0.9.5) (10.3.2.106)\n",
      "Requirement already satisfied: nvidia-cusolver-cu12==11.4.5.107 in /home/anthony/.local/lib/python3.10/site-packages (from torch>=1.7->timm==0.9.5) (11.4.5.107)\n",
      "Requirement already satisfied: nvidia-nccl-cu12==2.18.1 in /home/anthony/.local/lib/python3.10/site-packages (from torch>=1.7->timm==0.9.5) (2.18.1)\n",
      "Requirement already satisfied: nvidia-cuda-nvrtc-cu12==12.1.105 in /home/anthony/.local/lib/python3.10/site-packages (from torch>=1.7->timm==0.9.5) (12.1.105)\n",
      "Requirement already satisfied: nvidia-cuda-cupti-cu12==12.1.105 in /home/anthony/.local/lib/python3.10/site-packages (from torch>=1.7->timm==0.9.5) (12.1.105)\n",
      "Requirement already satisfied: filelock in /home/anthony/.local/lib/python3.10/site-packages (from torch>=1.7->timm==0.9.5) (3.12.2)\n",
      "Requirement already satisfied: typing-extensions in /home/anthony/.local/lib/python3.10/site-packages (from torch>=1.7->timm==0.9.5) (4.7.1)\n",
      "Requirement already satisfied: nvidia-cudnn-cu12==8.9.2.26 in /home/anthony/.local/lib/python3.10/site-packages (from torch>=1.7->timm==0.9.5) (8.9.2.26)\n",
      "Requirement already satisfied: nvidia-cufft-cu12==11.0.2.54 in /home/anthony/.local/lib/python3.10/site-packages (from torch>=1.7->timm==0.9.5) (11.0.2.54)\n",
      "Requirement already satisfied: triton==2.1.0 in /home/anthony/.local/lib/python3.10/site-packages (from torch>=1.7->timm==0.9.5) (2.1.0)\n",
      "Requirement already satisfied: nvidia-cuda-runtime-cu12==12.1.105 in /home/anthony/.local/lib/python3.10/site-packages (from torch>=1.7->timm==0.9.5) (12.1.105)\n",
      "Requirement already satisfied: sympy in /home/anthony/.local/lib/python3.10/site-packages (from torch>=1.7->timm==0.9.5) (1.12)\n",
      "Requirement already satisfied: jinja2 in /home/anthony/.local/lib/python3.10/site-packages (from torch>=1.7->timm==0.9.5) (3.1.2)\n",
      "Requirement already satisfied: nvidia-nvjitlink-cu12 in /home/anthony/.local/lib/python3.10/site-packages (from nvidia-cusolver-cu12==11.4.5.107->torch>=1.7->timm==0.9.5) (12.3.101)\n",
      "Requirement already satisfied: six>=1.5 in /usr/lib/python3/dist-packages (from python-dateutil>=2.7->matplotlib) (1.16.0)\n",
      "Requirement already satisfied: requests in /home/anthony/.local/lib/python3.10/site-packages (from huggingface-hub->timm==0.9.5) (2.31.0)\n",
      "Requirement already satisfied: MarkupSafe>=2.0 in /home/anthony/.local/lib/python3.10/site-packages (from jinja2->torch>=1.7->timm==0.9.5) (2.1.3)\n",
      "Requirement already satisfied: charset-normalizer<4,>=2 in /home/anthony/.local/lib/python3.10/site-packages (from requests->huggingface-hub->timm==0.9.5) (3.2.0)\n",
      "Requirement already satisfied: idna<4,>=2.5 in /home/anthony/.local/lib/python3.10/site-packages (from requests->huggingface-hub->timm==0.9.5) (3.4)\n",
      "Requirement already satisfied: certifi>=2017.4.17 in /home/anthony/.local/lib/python3.10/site-packages (from requests->huggingface-hub->timm==0.9.5) (2023.7.22)\n",
      "Requirement already satisfied: urllib3<3,>=1.21.1 in /home/anthony/.local/lib/python3.10/site-packages (from requests->huggingface-hub->timm==0.9.5) (2.0.4)\n",
      "Requirement already satisfied: mpmath>=0.19 in /home/anthony/.local/lib/python3.10/site-packages (from sympy->torch>=1.7->timm==0.9.5) (1.3.0)\n",
      "Defaulting to user installation because normal site-packages is not writeable\n",
      "Collecting git+https://github.com/lucasb-eyer/pydensecrf.git\n",
      "  Cloning https://github.com/lucasb-eyer/pydensecrf.git to /tmp/pip-req-build-c8z9tqhi\n",
      "  Running command git clone --filter=blob:none --quiet https://github.com/lucasb-eyer/pydensecrf.git /tmp/pip-req-build-c8z9tqhi\n",
      "  Resolved https://github.com/lucasb-eyer/pydensecrf.git to commit dd070546eda51e21ab772ee6f14807c7f5b1548b\n",
      "  Installing build dependencies ... \u001b[?25ldone\n",
      "\u001b[?25h  Getting requirements to build wheel ... \u001b[?25ldone\n",
      "\u001b[?25h  Preparing metadata (pyproject.toml) ... \u001b[?25ldone\n",
      "\u001b[?25h"
     ]
    }
   ],
   "source": [
    "!pip install matplotlib timm==0.9.5 tqdm scipy numpy tensorboardX wget scikit-image scikit-learn xformers\n",
    "!pip install git+https://github.com/lucasb-eyer/pydensecrf.git"
   ]
  },
  {
   "cell_type": "code",
   "execution_count": null,
   "metadata": {},
   "outputs": [],
   "source": [
    "# if using google colab \n",
    "from google.colab import drive\n",
    "drive.mount('/content/drive')\n",
    "import os\n",
    "os.chdir('/content/drive/Shareddrives/ARP_Hyperspectral_Algorithms/Sample_Data')"
   ]
  }
 ],
 "metadata": {
  "kernelspec": {
   "display_name": "Python 3 (ipykernel)",
   "language": "python",
   "name": "python3"
  },
  "language_info": {
   "codemirror_mode": {
    "name": "ipython",
    "version": 3
   },
   "file_extension": ".py",
   "mimetype": "text/x-python",
   "name": "python",
   "nbconvert_exporter": "python",
   "pygments_lexer": "ipython3",
   "version": "3.10.12"
  }
 },
 "nbformat": 4,
 "nbformat_minor": 4
}
